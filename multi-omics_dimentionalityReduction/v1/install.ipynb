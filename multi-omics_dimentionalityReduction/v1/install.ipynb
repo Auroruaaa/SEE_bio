{
 "cells": [
  {
   "cell_type": "code",
   "execution_count": null,
   "id": "d14953ad-6c0e-4db0-aff2-401027eb4c61",
   "metadata": {},
   "outputs": [
    {
     "name": "stdout",
     "output_type": "stream",
     "text": [
      "Requirement already satisfied: tensorflow in /opt/conda/lib/python3.11/site-packages (2.17.0)\n",
      "Requirement already satisfied: absl-py>=1.0.0 in /opt/conda/lib/python3.11/site-packages (from tensorflow) (2.1.0)\n",
      "Requirement already satisfied: astunparse>=1.6.0 in /opt/conda/lib/python3.11/site-packages (from tensorflow) (1.6.3)\n",
      "Requirement already satisfied: flatbuffers>=24.3.25 in /opt/conda/lib/python3.11/site-packages (from tensorflow) (24.3.25)\n",
      "Requirement already satisfied: gast!=0.5.0,!=0.5.1,!=0.5.2,>=0.2.1 in /opt/conda/lib/python3.11/site-packages (from tensorflow) (0.6.0)\n",
      "Requirement already satisfied: google-pasta>=0.1.1 in /opt/conda/lib/python3.11/site-packages (from tensorflow) (0.2.0)\n",
      "Requirement already satisfied: h5py>=3.10.0 in /opt/conda/lib/python3.11/site-packages (from tensorflow) (3.12.1)\n",
      "Requirement already satisfied: libclang>=13.0.0 in /opt/conda/lib/python3.11/site-packages (from tensorflow) (18.1.1)\n",
      "Requirement already satisfied: ml-dtypes<0.5.0,>=0.3.1 in /opt/conda/lib/python3.11/site-packages (from tensorflow) (0.4.1)\n",
      "Requirement already satisfied: opt-einsum>=2.3.2 in /opt/conda/lib/python3.11/site-packages (from tensorflow) (3.4.0)\n",
      "Requirement already satisfied: packaging in /opt/conda/lib/python3.11/site-packages (from tensorflow) (23.1)\n",
      "Requirement already satisfied: protobuf!=4.21.0,!=4.21.1,!=4.21.2,!=4.21.3,!=4.21.4,!=4.21.5,<5.0.0dev,>=3.20.3 in /opt/conda/lib/python3.11/site-packages (from tensorflow) (4.25.5)\n",
      "Requirement already satisfied: requests<3,>=2.21.0 in /opt/conda/lib/python3.11/site-packages (from tensorflow) (2.31.0)\n",
      "Requirement already satisfied: setuptools in /opt/conda/lib/python3.11/site-packages (from tensorflow) (68.1.2)\n",
      "Requirement already satisfied: six>=1.12.0 in /opt/conda/lib/python3.11/site-packages (from tensorflow) (1.16.0)\n",
      "Requirement already satisfied: termcolor>=1.1.0 in /opt/conda/lib/python3.11/site-packages (from tensorflow) (2.4.0)\n",
      "Requirement already satisfied: typing-extensions>=3.6.6 in /opt/conda/lib/python3.11/site-packages (from tensorflow) (4.7.1)\n",
      "Requirement already satisfied: wrapt>=1.11.0 in /opt/conda/lib/python3.11/site-packages (from tensorflow) (1.15.0)\n",
      "Requirement already satisfied: grpcio<2.0,>=1.24.3 in /opt/conda/lib/python3.11/site-packages (from tensorflow) (1.66.1)\n",
      "Requirement already satisfied: tensorboard<2.18,>=2.17 in /opt/conda/lib/python3.11/site-packages (from tensorflow) (2.17.1)\n",
      "Requirement already satisfied: keras>=3.2.0 in /opt/conda/lib/python3.11/site-packages (from tensorflow) (3.5.0)\n",
      "Requirement already satisfied: tensorflow-io-gcs-filesystem>=0.23.1 in /opt/conda/lib/python3.11/site-packages (from tensorflow) (0.37.1)\n",
      "Requirement already satisfied: numpy<2.0.0,>=1.23.5 in /opt/conda/lib/python3.11/site-packages (from tensorflow) (1.26.1)\n",
      "Requirement already satisfied: wheel<1.0,>=0.23.0 in /opt/conda/lib/python3.11/site-packages (from astunparse>=1.6.0->tensorflow) (0.41.2)\n",
      "Requirement already satisfied: rich in /opt/conda/lib/python3.11/site-packages (from keras>=3.2.0->tensorflow) (13.8.1)\n",
      "Requirement already satisfied: namex in /opt/conda/lib/python3.11/site-packages (from keras>=3.2.0->tensorflow) (0.0.8)\n",
      "Requirement already satisfied: optree in /opt/conda/lib/python3.11/site-packages (from keras>=3.2.0->tensorflow) (0.12.1)\n",
      "Requirement already satisfied: charset-normalizer<4,>=2 in /opt/conda/lib/python3.11/site-packages (from requests<3,>=2.21.0->tensorflow) (3.2.0)\n",
      "Requirement already satisfied: idna<4,>=2.5 in /opt/conda/lib/python3.11/site-packages (from requests<3,>=2.21.0->tensorflow) (3.4)\n",
      "Requirement already satisfied: urllib3<3,>=1.21.1 in /opt/conda/lib/python3.11/site-packages (from requests<3,>=2.21.0->tensorflow) (2.0.4)\n",
      "Requirement already satisfied: certifi>=2017.4.17 in /opt/conda/lib/python3.11/site-packages (from requests<3,>=2.21.0->tensorflow) (2023.7.22)\n",
      "Requirement already satisfied: markdown>=2.6.8 in /opt/conda/lib/python3.11/site-packages (from tensorboard<2.18,>=2.17->tensorflow) (3.7)\n",
      "Requirement already satisfied: tensorboard-data-server<0.8.0,>=0.7.0 in /opt/conda/lib/python3.11/site-packages (from tensorboard<2.18,>=2.17->tensorflow) (0.7.2)\n",
      "Requirement already satisfied: werkzeug>=1.0.1 in /opt/conda/lib/python3.11/site-packages (from tensorboard<2.18,>=2.17->tensorflow) (3.0.4)\n",
      "Requirement already satisfied: MarkupSafe>=2.1.1 in /opt/conda/lib/python3.11/site-packages (from werkzeug>=1.0.1->tensorboard<2.18,>=2.17->tensorflow) (2.1.3)\n",
      "Requirement already satisfied: markdown-it-py>=2.2.0 in /opt/conda/lib/python3.11/site-packages (from rich->keras>=3.2.0->tensorflow) (3.0.0)\n",
      "Requirement already satisfied: pygments<3.0.0,>=2.13.0 in /opt/conda/lib/python3.11/site-packages (from rich->keras>=3.2.0->tensorflow) (2.16.1)\n",
      "Requirement already satisfied: mdurl~=0.1 in /opt/conda/lib/python3.11/site-packages (from markdown-it-py>=2.2.0->rich->keras>=3.2.0->tensorflow) (0.1.2)\n",
      "Requirement already satisfied: pandas in /opt/conda/lib/python3.11/site-packages (2.2.3)\n",
      "Requirement already satisfied: numpy>=1.23.2 in /opt/conda/lib/python3.11/site-packages (from pandas) (1.26.1)\n",
      "Requirement already satisfied: python-dateutil>=2.8.2 in /opt/conda/lib/python3.11/site-packages (from pandas) (2.8.2)\n",
      "Requirement already satisfied: pytz>=2020.1 in /opt/conda/lib/python3.11/site-packages (from pandas) (2023.3.post1)\n",
      "Requirement already satisfied: tzdata>=2022.7 in /opt/conda/lib/python3.11/site-packages (from pandas) (2024.2)\n",
      "Requirement already satisfied: six>=1.5 in /opt/conda/lib/python3.11/site-packages (from python-dateutil>=2.8.2->pandas) (1.16.0)\n",
      "Collecting xgboost\n",
      "  Obtaining dependency information for xgboost from https://files.pythonhosted.org/packages/20/2f/2ccc91db71096cdb8c5174948db738075d7e38cfece0815500336f6e4ca8/xgboost-2.1.1-py3-none-manylinux_2_28_x86_64.whl.metadata\n",
      "  Using cached xgboost-2.1.1-py3-none-manylinux_2_28_x86_64.whl.metadata (2.1 kB)\n",
      "Requirement already satisfied: numpy in /opt/conda/lib/python3.11/site-packages (from xgboost) (1.26.1)\n",
      "Requirement already satisfied: nvidia-nccl-cu12 in /opt/conda/lib/python3.11/site-packages (from xgboost) (2.18.1)\n",
      "Requirement already satisfied: scipy in /opt/conda/lib/python3.11/site-packages (from xgboost) (1.11.3)\n"
     ]
    }
   ],
   "source": [
    "!pip install tensorflow\n",
    "!pip install pandas\n",
    "!pip install xgboost"
   ]
  },
  {
   "cell_type": "code",
   "execution_count": null,
   "id": "caae0a9c-aaa9-4b76-8c13-271402344f34",
   "metadata": {},
   "outputs": [],
   "source": [
    "!pip install xgboost"
   ]
  },
  {
   "cell_type": "code",
   "execution_count": null,
   "id": "de408559-734f-4fa4-baa9-0d981d26fb69",
   "metadata": {},
   "outputs": [],
   "source": [
    "!pip install cupy-cuda11x cuml-cuda11x cudf-cuda11x\n",
    "\n"
   ]
  },
  {
   "cell_type": "code",
   "execution_count": null,
   "id": "15ec8fbd-e646-465a-be95-e8861b3f77d7",
   "metadata": {},
   "outputs": [],
   "source": [
    "!pip install gemelli biom-format\n"
   ]
  },
  {
   "cell_type": "code",
   "execution_count": null,
   "id": "087ad5fc-5f12-4770-8d56-522649a94b50",
   "metadata": {},
   "outputs": [],
   "source": [
    "!pip install --extra-index-url https://pypi.nvidia.com cuml-cu11\n"
   ]
  },
  {
   "cell_type": "code",
   "execution_count": null,
   "id": "d028bc4e-681f-41b4-a876-4477cabd4741",
   "metadata": {},
   "outputs": [],
   "source": [
    "!pip install scikit-bio\n"
   ]
  },
  {
   "cell_type": "code",
   "execution_count": null,
   "id": "73458920-000b-4d08-8919-4662fdc8f1c0",
   "metadata": {},
   "outputs": [],
   "source": [
    "!pip install gemelli\n"
   ]
  },
  {
   "cell_type": "code",
   "execution_count": null,
   "id": "742318c2-5ca6-44ef-b9f7-80cec4378cb8",
   "metadata": {},
   "outputs": [],
   "source": [
    "!pip install --upgrade gemelli\n"
   ]
  },
  {
   "cell_type": "code",
   "execution_count": null,
   "id": "169b160d-a7ff-40e8-8667-c15c7f1f10e6",
   "metadata": {},
   "outputs": [],
   "source": [
    "pip install scikit-rpca"
   ]
  },
  {
   "cell_type": "code",
   "execution_count": null,
   "id": "a9930034-a084-41c5-b750-84bff4d408fe",
   "metadata": {},
   "outputs": [],
   "source": [
    "!pip install --upgrade cuml\n"
   ]
  },
  {
   "cell_type": "code",
   "execution_count": null,
   "id": "38b5f453-668b-4946-84ef-1632bfdf2227",
   "metadata": {},
   "outputs": [],
   "source": [
    "!pip install biom-format\n",
    "!pip install scikit-bio\n"
   ]
  },
  {
   "cell_type": "code",
   "execution_count": null,
   "id": "74f7e14e-8499-435c-84d1-4e65fb4d7209",
   "metadata": {},
   "outputs": [],
   "source": [
    "!pip install --upgrade mxnet-cu101 gluoncv"
   ]
  },
  {
   "cell_type": "code",
   "execution_count": null,
   "id": "e7083ee5-ddc1-4483-92b8-1dd75a7dc874",
   "metadata": {},
   "outputs": [],
   "source": [
    "python3 -m pip install --upgrade \"mxnet_cu101<2.0.0\"\n",
    "python3 -m pip install autogluon"
   ]
  },
  {
   "cell_type": "code",
   "execution_count": null,
   "id": "1462c2c8-e7aa-47f3-8ac6-0bb0f2a669a0",
   "metadata": {},
   "outputs": [],
   "source": [
    "!pip install cython\n"
   ]
  },
  {
   "cell_type": "code",
   "execution_count": null,
   "id": "95364d80-57f4-4881-8741-8120e4f773e5",
   "metadata": {},
   "outputs": [],
   "source": [
    "# pip (only supported for QIIME2 >= 2018.8)\n",
    "!pip install gemelli"
   ]
  },
  {
   "cell_type": "code",
   "execution_count": null,
   "id": "a794a5a4-b199-493b-9bb3-763ab9b871ce",
   "metadata": {},
   "outputs": [],
   "source": [
    "!pip install FastFM"
   ]
  },
  {
   "cell_type": "code",
   "execution_count": null,
   "id": "3ad6fd41-7bb5-4244-ada3-c56e73c06498",
   "metadata": {},
   "outputs": [],
   "source": [
    "! pip install --upgrade gemelli\n"
   ]
  },
  {
   "cell_type": "code",
   "execution_count": null,
   "id": "0aaf9299-d103-482c-8228-ae8be7881af6",
   "metadata": {},
   "outputs": [],
   "source": [
    "!pip install gemelli biom-format scikit-bio\n"
   ]
  },
  {
   "cell_type": "code",
   "execution_count": 2,
   "id": "60c66746-1387-4cb2-a23d-b909e76d2b92",
   "metadata": {},
   "outputs": [
    {
     "name": "stdout",
     "output_type": "stream",
     "text": [
      "XGBoost 已被导入\n"
     ]
    }
   ],
   "source": [
    "import xgboost\n",
    "import sys\n",
    "\n",
    "# 检查 XGBoost 是否已导入\n",
    "if 'xgboost' in sys.modules:\n",
    "    print(\"XGBoost 已被导入\")\n",
    "else:\n",
    "    print(\"XGBoost 未被导入\")"
   ]
  },
  {
   "cell_type": "code",
   "execution_count": null,
   "id": "38b44831-29ff-4471-962a-c14ec664d821",
   "metadata": {},
   "outputs": [],
   "source": []
  }
 ],
 "metadata": {
  "kernelspec": {
   "display_name": "Python 3 (ipykernel)",
   "language": "python",
   "name": "python3"
  },
  "language_info": {
   "codemirror_mode": {
    "name": "ipython",
    "version": 3
   },
   "file_extension": ".py",
   "mimetype": "text/x-python",
   "name": "python",
   "nbconvert_exporter": "python",
   "pygments_lexer": "ipython3",
   "version": "3.11.5"
  }
 },
 "nbformat": 4,
 "nbformat_minor": 5
}
