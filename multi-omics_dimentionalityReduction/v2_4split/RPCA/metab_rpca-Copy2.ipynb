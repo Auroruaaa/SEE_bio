{
 "cells": [
  {
   "cell_type": "code",
   "execution_count": null,
   "id": "193364cf-dc0f-4c16-ba34-5c0b9de1b54e",
   "metadata": {},
   "outputs": [],
   "source": [
    "# metab_2"
   ]
  },
  {
   "cell_type": "code",
   "execution_count": 1,
   "id": "726511b8-39cf-4cdc-a192-3f0a15fcf995",
   "metadata": {},
   "outputs": [],
   "source": [
    "import numpy as np\n",
    "import pandas as pd\n",
    "from biom import Table\n",
    "from gemelli.rpca import rpca\n",
    "from sklearn.metrics import mean_squared_error\n",
    "from sklearn.preprocessing import StandardScaler\n",
    "from sklearn.preprocessing import MinMaxScaler\n"
   ]
  },
  {
   "cell_type": "code",
   "execution_count": 2,
   "id": "fa20b8ce-39c4-47a6-985d-fac36830acb1",
   "metadata": {},
   "outputs": [],
   "source": [
    "metab_1_path = 'metadata/metab_df_1_processed.csv'\n",
    "metab_2_path = 'metadata/metab_df_2_processed.csv'"
   ]
  },
  {
   "cell_type": "code",
   "execution_count": 3,
   "id": "b98c3714-dfde-47f5-863e-a83361d26b55",
   "metadata": {},
   "outputs": [],
   "source": [
    "df = pd.read_csv(metab_2_path, delimiter='\\t')\n",
    "data = df.values  # Get the underlying numpy array\n",
    "\n",
    "scaler = MinMaxScaler()\n",
    "data_scaled = scaler.fit_transform(data)\n",
    "\n",
    "data += 1e-10  # To avoid log(0) issues\n",
    "data_scaled += 1e-10\n",
    "sample_ids = df.index.tolist()  # Get observation IDs (rows)\n",
    "feature_ids = df.columns.tolist()  # Get sample IDs (columns)\n",
    "\n",
    "# Create the biom.Table\n",
    "table = Table(data.T, feature_ids, sample_ids)\n",
    "table_scaled = Table(data_scaled.T, feature_ids, sample_ids)"
   ]
  },
  {
   "cell_type": "code",
   "execution_count": 4,
   "id": "910dd806-0ef6-483a-bee0-54bc77484279",
   "metadata": {},
   "outputs": [
    {
     "name": "stdout",
     "output_type": "stream",
     "text": [
      "(744, 17354)\n",
      "(744, 17354)\n",
      "Reconstruction MSE: 0.009445361419029272\n",
      "(744, 3)\n"
     ]
    }
   ],
   "source": [
    "dim = 3\n",
    "\n",
    "rpca_results = rpca(table_scaled, n_components=dim)\n",
    "ordination, distance = rpca_results  # Assuming the second output is loadings/components\n",
    "\n",
    "sample_scores = ordination.samples\n",
    "feature_scores = ordination.features\n",
    "\n",
    "X_reconstructed = np.dot(sample_scores, feature_scores.T)\n",
    "\n",
    "print(data_scaled.shape)\n",
    "print(X_reconstructed.shape)\n",
    "\n",
    "mse = mean_squared_error(data_scaled, X_reconstructed)\n",
    "print(f'Reconstruction MSE: {mse}')\n",
    "\n",
    "print(sample_scores.shape)"
   ]
  },
  {
   "cell_type": "code",
   "execution_count": 5,
   "id": "138b6b69-6166-414e-b358-36dcb2d17805",
   "metadata": {},
   "outputs": [
    {
     "name": "stdout",
     "output_type": "stream",
     "text": [
      "Reconstruction MSE: 0.009437244095420436\n",
      "(744, 3)\n"
     ]
    }
   ],
   "source": [
    "dim = 5\n",
    "\n",
    "rpca_results_2 = rpca(table_scaled, n_components=dim)\n",
    "ordination_2, distance_2 = rpca_results_2  # Assuming the second output is loadings/components\n",
    "\n",
    "sample_scores_2 = ordination_2.samples\n",
    "feature_scores_2 = ordination_2.features\n",
    "\n",
    "X_reconstructed_2 = np.dot(sample_scores_2, feature_scores_2.T)\n",
    "\n",
    "# print(data_scaled.shape)\n",
    "# print(X_reconstructed_2.shape)\n",
    "\n",
    "mse_2 = mean_squared_error(data_scaled, X_reconstructed_2)\n",
    "print(f'Reconstruction MSE: {mse_2}')\n",
    "\n",
    "print(sample_scores_2.shape)"
   ]
  },
  {
   "cell_type": "code",
   "execution_count": 6,
   "id": "52768db8-3215-483b-bb63-fed1bdda800f",
   "metadata": {},
   "outputs": [
    {
     "name": "stdout",
     "output_type": "stream",
     "text": [
      "Reconstruction MSE: 0.009423113545124722\n",
      "(744, 3)\n"
     ]
    }
   ],
   "source": [
    "dim = 10\n",
    "\n",
    "rpca_results_3 = rpca(table_scaled, n_components=dim)\n",
    "ordination_3, distance_3 = rpca_results_3  # Assuming the second output is loadings/components\n",
    "\n",
    "sample_scores_3 = ordination_3.samples\n",
    "feature_scores_3 = ordination_3.features\n",
    "\n",
    "X_reconstructed_3 = np.dot(sample_scores_3, feature_scores_3.T)\n",
    "\n",
    "# print(data_scaled.shape)\n",
    "# print(X_reconstructed_3.shape)\n",
    "\n",
    "mse_3 = mean_squared_error(data_scaled, X_reconstructed_3)\n",
    "print(f'Reconstruction MSE: {mse_3}')\n",
    "\n",
    "print(sample_scores_3.shape)"
   ]
  },
  {
   "cell_type": "code",
   "execution_count": null,
   "id": "ee60df14-9b5f-4153-9b0a-4aaf4cf5064a",
   "metadata": {},
   "outputs": [],
   "source": [
    "dim = 512\n",
    "\n",
    "rpca_results_ = rpca(table_scaled, n_components=dim)\n",
    "ordination_, distance_ = rpca_results_  # Assuming the second output is loadings/components\n",
    "\n",
    "sample_scores_ = ordination_.samples\n",
    "feature_scores_ = ordination_.features\n",
    "\n",
    "X_reconstructed_ = np.dot(sample_scores_, feature_scores_.T)\n",
    "\n",
    "# print(data_scaled.shape)\n",
    "# print(X_reconstructed_.shape)\n",
    "\n",
    "mse_ = mean_squared_error(data_scaled, X_reconstructed_)\n",
    "print(f'Reconstruction MSE: {mse_}')\n",
    "\n",
    "print(sample_scores_.shape)"
   ]
  },
  {
   "cell_type": "code",
   "execution_count": 7,
   "id": "f0f88c65-4b1e-4df6-83bd-bbb1722dc06b",
   "metadata": {},
   "outputs": [],
   "source": [
    "# num = 0\n",
    "# for el in rpca_results:\n",
    "#     num += 1\n",
    "#     print(num)\n",
    "#     print(el)\n",
    "\n",
    "# 1\n",
    "# Ordination results:\n",
    "# \tMethod: (Robust Aitchison) RPCA Biplot (rpca_biplot)\n",
    "# \tEigvals: 3\n",
    "# \tProportion explained: 3\n",
    "# \tFeatures: 20628x3\n",
    "# \tSamples: 637x3\n",
    "# \tBiplot Scores: N/A\n",
    "# \tSample constraints: N/A\n",
    "# \tFeature IDs: '4326', '6697', '954', '54780', '51118', '50550', '49458', '48097', '55397', ...\n",
    "# \tSample IDs: 0, 1, 2, 3, 4, 5, 6, 7, 8, 9, 10, 11, 12, 13, 14, 15, 16, 17, 18, 19, 20, 21, ...\n",
    "# 2\n",
    "# 637x637 distance matrix\n",
    "# IDs:\n",
    "# 0, 1, 2, 3, 4, 5, 6, 7, 8, 9, 10, 11, 12, 13, 14, 15, 16, 17, 18, 19, 20, 21, ...\n",
    "# Data:\n",
    "# [[0.         2.10760895 0.76862083 ... 1.68637608 1.87830878 1.36573049]\n",
    "#  [2.10760895 0.         1.38467746 ... 2.07190825 0.40275515 2.29297474]\n",
    "#  [0.76862083 1.38467746 0.         ... 1.73476899 1.22547324 1.6237137 ]\n",
    "#  ...\n",
    "#  [1.68637608 2.07190825 1.73476899 ... 0.         1.67285413 0.49748141]\n",
    "#  [1.87830878 0.40275515 1.22547324 ... 1.67285413 0.         1.9087539 ]\n",
    "#  [1.36573049 2.29297474 1.6237137  ... 0.49748141 1.9087539  0.        ]]"
   ]
  },
  {
   "cell_type": "code",
   "execution_count": null,
   "id": "c9d79e97-2173-43d5-8920-02e0a1f364a3",
   "metadata": {},
   "outputs": [],
   "source": [
    "# scaled:\n",
    "# dim = (744, 3)\n",
    "# Reconstruction MSE: 0.009445361419013932\n"
   ]
  }
 ],
 "metadata": {
  "kernelspec": {
   "display_name": "Python 3 (ipykernel)",
   "language": "python",
   "name": "python3"
  },
  "language_info": {
   "codemirror_mode": {
    "name": "ipython",
    "version": 3
   },
   "file_extension": ".py",
   "mimetype": "text/x-python",
   "name": "python",
   "nbconvert_exporter": "python",
   "pygments_lexer": "ipython3",
   "version": "3.11.5"
  }
 },
 "nbformat": 4,
 "nbformat_minor": 5
}
