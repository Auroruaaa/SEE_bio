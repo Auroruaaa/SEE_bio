{
 "cells": [
  {
   "cell_type": "code",
   "execution_count": 1,
   "id": "f6d21219-072c-43f5-a0c5-b469048150bc",
   "metadata": {},
   "outputs": [
    {
     "name": "stdout",
     "output_type": "stream",
     "text": [
      "Requirement already satisfied: pandas in /opt/conda/lib/python3.11/site-packages (2.2.2)\n",
      "Requirement already satisfied: numpy>=1.23.2 in /opt/conda/lib/python3.11/site-packages (from pandas) (1.26.4)\n",
      "Requirement already satisfied: python-dateutil>=2.8.2 in /opt/conda/lib/python3.11/site-packages (from pandas) (2.9.0)\n",
      "Requirement already satisfied: pytz>=2020.1 in /opt/conda/lib/python3.11/site-packages (from pandas) (2024.1)\n",
      "Requirement already satisfied: tzdata>=2022.7 in /opt/conda/lib/python3.11/site-packages (from pandas) (2024.1)\n",
      "Requirement already satisfied: six>=1.5 in /opt/conda/lib/python3.11/site-packages (from python-dateutil>=2.8.2->pandas) (1.16.0)\n",
      "Collecting gemelli\n",
      "  Using cached gemelli-0.0.11-py3-none-any.whl.metadata (10 kB)\n",
      "Requirement already satisfied: numpy>=1.12.1 in /opt/conda/lib/python3.11/site-packages (from gemelli) (1.26.4)\n",
      "Requirement already satisfied: click in /opt/conda/lib/python3.11/site-packages (from gemelli) (8.1.7)\n",
      "Requirement already satisfied: pandas>=0.10.0 in /opt/conda/lib/python3.11/site-packages (from gemelli) (2.2.2)\n",
      "Requirement already satisfied: scipy>=0.19.1 in /opt/conda/lib/python3.11/site-packages (from gemelli) (1.13.1)\n",
      "Collecting nose>=1.3.7 (from gemelli)\n",
      "  Using cached nose-1.3.7-py3-none-any.whl.metadata (1.7 kB)\n",
      "Requirement already satisfied: scikit-learn>=0.18.1 in /opt/conda/lib/python3.11/site-packages (from gemelli) (1.5.0)\n",
      "Collecting scikit-bio>0.5.3 (from gemelli)\n",
      "  Using cached scikit_bio-0.6.2-cp311-cp311-linux_x86_64.whl\n",
      "Collecting biom-format (from gemelli)\n",
      "  Using cached biom_format-2.1.16-cp311-cp311-linux_x86_64.whl\n",
      "Requirement already satisfied: h5py in /opt/conda/lib/python3.11/site-packages (from gemelli) (3.11.0)\n",
      "Collecting iow (from gemelli)\n",
      "  Using cached iow-1.0.7-cp311-cp311-linux_x86_64.whl\n",
      "Collecting tax2tree (from gemelli)\n",
      "  Using cached tax2tree-1.1-py3-none-any.whl\n",
      "Requirement already satisfied: python-dateutil>=2.8.2 in /opt/conda/lib/python3.11/site-packages (from pandas>=0.10.0->gemelli) (2.9.0)\n",
      "Requirement already satisfied: pytz>=2020.1 in /opt/conda/lib/python3.11/site-packages (from pandas>=0.10.0->gemelli) (2024.1)\n",
      "Requirement already satisfied: tzdata>=2022.7 in /opt/conda/lib/python3.11/site-packages (from pandas>=0.10.0->gemelli) (2024.1)\n",
      "Requirement already satisfied: requests>=2.20.0 in /opt/conda/lib/python3.11/site-packages (from scikit-bio>0.5.3->gemelli) (2.31.0)\n",
      "Requirement already satisfied: decorator>=3.4.2 in /opt/conda/lib/python3.11/site-packages (from scikit-bio>0.5.3->gemelli) (5.1.1)\n",
      "Collecting natsort>=4.0.3 (from scikit-bio>0.5.3->gemelli)\n",
      "  Using cached natsort-8.4.0-py3-none-any.whl.metadata (21 kB)\n",
      "Requirement already satisfied: statsmodels>=0.14.0 in /opt/conda/lib/python3.11/site-packages (from scikit-bio>0.5.3->gemelli) (0.14.2)\n",
      "Requirement already satisfied: joblib>=1.2.0 in /opt/conda/lib/python3.11/site-packages (from scikit-learn>=0.18.1->gemelli) (1.4.2)\n",
      "Requirement already satisfied: threadpoolctl>=3.1.0 in /opt/conda/lib/python3.11/site-packages (from scikit-learn>=0.18.1->gemelli) (3.5.0)\n",
      "Collecting cython<1.0.0,>=0.24.1 (from iow->gemelli)\n",
      "  Using cached Cython-0.29.37-cp311-cp311-manylinux_2_17_x86_64.manylinux2014_x86_64.manylinux_2_24_x86_64.whl.metadata (3.1 kB)\n",
      "Requirement already satisfied: future>=0.13.1 in /opt/conda/lib/python3.11/site-packages (from tax2tree->gemelli) (1.0.0)\n",
      "Requirement already satisfied: six>=1.5 in /opt/conda/lib/python3.11/site-packages (from python-dateutil>=2.8.2->pandas>=0.10.0->gemelli) (1.16.0)\n",
      "Requirement already satisfied: charset-normalizer<4,>=2 in /opt/conda/lib/python3.11/site-packages (from requests>=2.20.0->scikit-bio>0.5.3->gemelli) (3.3.2)\n",
      "Requirement already satisfied: idna<4,>=2.5 in /opt/conda/lib/python3.11/site-packages (from requests>=2.20.0->scikit-bio>0.5.3->gemelli) (3.7)\n",
      "Requirement already satisfied: urllib3<3,>=1.21.1 in /opt/conda/lib/python3.11/site-packages (from requests>=2.20.0->scikit-bio>0.5.3->gemelli) (2.2.1)\n",
      "Requirement already satisfied: certifi>=2017.4.17 in /opt/conda/lib/python3.11/site-packages (from requests>=2.20.0->scikit-bio>0.5.3->gemelli) (2024.2.2)\n",
      "Requirement already satisfied: patsy>=0.5.6 in /opt/conda/lib/python3.11/site-packages (from statsmodels>=0.14.0->scikit-bio>0.5.3->gemelli) (0.5.6)\n",
      "Requirement already satisfied: packaging>=21.3 in /opt/conda/lib/python3.11/site-packages (from statsmodels>=0.14.0->scikit-bio>0.5.3->gemelli) (23.2)\n",
      "Using cached gemelli-0.0.11-py3-none-any.whl (104 kB)\n",
      "Using cached nose-1.3.7-py3-none-any.whl (154 kB)\n",
      "Using cached Cython-0.29.37-cp311-cp311-manylinux_2_17_x86_64.manylinux2014_x86_64.manylinux_2_24_x86_64.whl (1.9 MB)\n",
      "Using cached natsort-8.4.0-py3-none-any.whl (38 kB)\n",
      "Installing collected packages: nose, natsort, cython, biom-format, scikit-bio, iow, tax2tree, gemelli\n",
      "  Attempting uninstall: cython\n",
      "    Found existing installation: Cython 3.0.10\n",
      "    Uninstalling Cython-3.0.10:\n",
      "      Successfully uninstalled Cython-3.0.10\n",
      "Successfully installed biom-format-2.1.16 cython-0.29.37 gemelli-0.0.11 iow-1.0.7 natsort-8.4.0 nose-1.3.7 scikit-bio-0.6.2 tax2tree-1.1\n",
      "Collecting xgboost\n",
      "  Using cached xgboost-2.1.1-py3-none-manylinux_2_28_x86_64.whl.metadata (2.1 kB)\n",
      "Requirement already satisfied: numpy in /opt/conda/lib/python3.11/site-packages (from xgboost) (1.26.4)\n",
      "Requirement already satisfied: nvidia-nccl-cu12 in /opt/conda/lib/python3.11/site-packages (from xgboost) (2.20.5)\n",
      "Requirement already satisfied: scipy in /opt/conda/lib/python3.11/site-packages (from xgboost) (1.13.1)\n",
      "Using cached xgboost-2.1.1-py3-none-manylinux_2_28_x86_64.whl (153.9 MB)\n",
      "Installing collected packages: xgboost\n",
      "Successfully installed xgboost-2.1.1\n"
     ]
    }
   ],
   "source": [
    "!pip install pandas\n",
    "# !pip install biom-format\n",
    "!pip install gemelli\n",
    "!pip install xgboost\n"
   ]
  },
  {
   "cell_type": "code",
   "execution_count": 3,
   "id": "62888b68-2bb4-4395-ad8b-a5f9d8bd4d19",
   "metadata": {},
   "outputs": [
    {
     "name": "stdout",
     "output_type": "stream",
     "text": [
      "Looking in indexes: https://pypi.org/simple, https://pypi.nvidia.com\n",
      "Collecting cuml-cu11\n",
      "  Downloading https://pypi.nvidia.com/cuml-cu11/cuml_cu11-24.8.0-cp311-cp311-manylinux_2_28_x86_64.whl (1296.8 MB)\n",
      "\u001b[2K     \u001b[91m━━━━━━━━━━━━━━━━━━━━━━━━━━━━━━━━━━━━━━━\u001b[0m\u001b[91m╸\u001b[0m \u001b[32m1.3/1.3 GB\u001b[0m \u001b[31m8.3 MB/s\u001b[0m eta \u001b[36m0:00:01\u001b[0m^C:06\u001b[0mmm\n",
      "\u001b[2K     \u001b[91m━━━━━━━━━━━━━━━━━━━━━━━━━━━━━━━━━━━━━━━\u001b[0m\u001b[91m╸\u001b[0m \u001b[32m1.3/1.3 GB\u001b[0m \u001b[31m8.3 MB/s\u001b[0m eta \u001b[36m0:00:01\u001b[0m"
     ]
    }
   ],
   "source": [
    "!pip install --extra-index-url https://pypi.nvidia.com cuml-cu11\n"
   ]
  },
  {
   "cell_type": "code",
   "execution_count": null,
   "id": "e586be5e-2f01-4195-bade-492587f3d14c",
   "metadata": {},
   "outputs": [
    {
     "name": "stdout",
     "output_type": "stream",
     "text": [
      "Looking in indexes: https://pypi.org/simple, https://pypi.nvidia.com\n",
      "Collecting cuml-cu11\n",
      "  Downloading https://pypi.nvidia.com/cuml-cu11/cuml_cu11-24.8.0-cp311-cp311-manylinux_2_28_x86_64.whl (1296.8 MB)\n",
      "\u001b[2K     \u001b[91m━━━━━━━━━━━━━━━━━━━━━━━━━━━━━━━━━━━━━━━\u001b[0m\u001b[91m╸\u001b[0m \u001b[32m1.3/1.3 GB\u001b[0m \u001b[31m59.7 MB/s\u001b[0m eta \u001b[36m0:00:01\u001b[0m00:01\u001b[0mm"
     ]
    },
    {
     "name": "stderr",
     "output_type": "stream",
     "text": [
      "IOPub message rate exceeded.\n",
      "The Jupyter server will temporarily stop sending output\n",
      "to the client in order to avoid crashing it.\n",
      "To change this limit, set the config variable\n",
      "`--ServerApp.iopub_msg_rate_limit`.\n",
      "\n",
      "Current values:\n",
      "ServerApp.iopub_msg_rate_limit=1000.0 (msgs/sec)\n",
      "ServerApp.rate_limit_window=3.0 (secs)\n",
      "\n"
     ]
    },
    {
     "name": "stdout",
     "output_type": "stream",
     "text": [
      "\u001b[2K     \u001b[91m━━━━━━━━━━━━━━━━━━━━━━━━━━━━━━━━━━━━━━━\u001b[0m\u001b[91m╸\u001b[0m \u001b[32m1.3/1.3 GB\u001b[0m \u001b[31m59.7 MB/s\u001b[0m eta \u001b[36m0:00:01\u001b[0m"
     ]
    }
   ],
   "source": [
    "!pip install --extra-index-url https://pypi.nvidia.com cuml-cu11\n"
   ]
  },
  {
   "cell_type": "code",
   "execution_count": null,
   "id": "6aba7a2d-f232-438f-bbe9-e9acf225f4e2",
   "metadata": {},
   "outputs": [],
   "source": []
  }
 ],
 "metadata": {
  "kernelspec": {
   "display_name": "Python 3 (ipykernel)",
   "language": "python",
   "name": "python3"
  },
  "language_info": {
   "codemirror_mode": {
    "name": "ipython",
    "version": 3
   },
   "file_extension": ".py",
   "mimetype": "text/x-python",
   "name": "python",
   "nbconvert_exporter": "python",
   "pygments_lexer": "ipython3",
   "version": "3.11.9"
  }
 },
 "nbformat": 4,
 "nbformat_minor": 5
}
