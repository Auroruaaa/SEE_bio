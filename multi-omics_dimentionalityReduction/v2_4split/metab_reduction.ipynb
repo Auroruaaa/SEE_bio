{
 "cells": [
  {
   "cell_type": "code",
   "execution_count": 3,
   "id": "2952e27a-c69c-4bab-8754-0b0c2b178872",
   "metadata": {},
   "outputs": [],
   "source": [
    "import numpy as np\n",
    "import pandas as pd\n",
    "# import tensorflow as tf\n",
    "\n",
    "import cudf\n",
    "import cuml\n",
    "from cuml.preprocessing import StandardScaler, MinMaxScaler\n",
    "\n",
    "from cuml.decomposition import PCA\n",
    "from cuml.metrics import mean_squared_error"
   ]
  },
  {
   "cell_type": "code",
   "execution_count": 3,
   "id": "b2677293-051d-400f-81a3-69a5aaa5876f",
   "metadata": {},
   "outputs": [
    {
     "name": "stdout",
     "output_type": "stream",
     "text": [
      "df_1 size: 637 * 20628\n",
      "Range: [0.0, 327369100.00000006]\n",
      "df_2 size: 744 * 17354\n",
      "Range: [0.0, 774804400.0]\n"
     ]
    }
   ],
   "source": [
    "metab_1_path = 'metadata/metab_df_1_processed.csv'\n",
    "metab_2_path = 'metadata/metab_df_2_processed.csv'\n",
    "df_1 = cudf.read_csv(metab_1_path, delimiter='\\t')\n",
    "df_2 = cudf.read_csv(metab_2_path, delimiter='\\t')\n",
    "\n",
    "print(f'df_1 size: {df_1.shape[0]} * {df_1.shape[1]}')\n",
    "print(f'Range: [{df_1.min().min()}, {df_1.max().max()}]')\n",
    "print(f'df_2 size: {df_2.shape[0]} * {df_2.shape[1]}')\n",
    "print(f'Range: [{df_2.min().min()}, {df_2.max().max()}]')"
   ]
  },
  {
   "cell_type": "code",
   "execution_count": 4,
   "id": "8c1215df-d3ed-445f-a6e9-78f9dad42421",
   "metadata": {},
   "outputs": [],
   "source": [
    "# df_1 size: 637 * 20628\n",
    "# Range: [0.0, 327369100.00000006]\n",
    "# df_2 size: 744 * 17354\n",
    "# Range: [0.0, 774804400.0]"
   ]
  },
  {
   "cell_type": "code",
   "execution_count": 5,
   "id": "03da53c8-46ff-4d1e-9122-dd17886e5789",
   "metadata": {},
   "outputs": [],
   "source": [
    "# Unscaled dataset"
   ]
  },
  {
   "cell_type": "code",
   "execution_count": 6,
   "id": "39d5b84f-126f-4ee1-9977-72399cc8b3c1",
   "metadata": {},
   "outputs": [],
   "source": [
    "reduced_dim = 128\n",
    "pca_model1 = PCA(n_components=reduced_dim, svd_solver='full')\n",
    "pca_model2 = PCA(n_components=reduced_dim, svd_solver='full')\n",
    "df1_pca = pca_model1.fit_transform(df_1)\n",
    "df2_pca = pca_model2.fit_transform(df_2)\n",
    "\n",
    "df1_reconstructed = pca_model1.inverse_transform(df1_pca)\n",
    "df2_reconstructed = pca_model2.inverse_transform(df2_pca)"
   ]
  },
  {
   "cell_type": "code",
   "execution_count": 7,
   "id": "65010967-4c1b-4dc3-a956-4e7f25815ba5",
   "metadata": {},
   "outputs": [
    {
     "name": "stdout",
     "output_type": "stream",
     "text": [
      "df1_pca size: 637 * 128\n",
      "df2_pca size: 744 * 128\n",
      "df1_reconstructed size: 637 * 20628\n",
      "df2_reconstructed size: 744 * 17354\n"
     ]
    }
   ],
   "source": [
    "print(f'df1_pca size: {df1_pca.shape[0]} * {df1_pca.shape[1]}')\n",
    "print(f'df2_pca size: {df2_pca.shape[0]} * {df2_pca.shape[1]}')\n",
    "print(f'df1_reconstructed size: {df1_reconstructed.shape[0]} * {df1_reconstructed.shape[1]}')\n",
    "print(f'df2_reconstructed size: {df2_reconstructed.shape[0]} * {df2_reconstructed.shape[1]}')"
   ]
  },
  {
   "cell_type": "code",
   "execution_count": 8,
   "id": "cde80de4-2935-413f-890a-ed59fc7a0a4a",
   "metadata": {},
   "outputs": [
    {
     "name": "stdout",
     "output_type": "stream",
     "text": [
      "----For metadata/metab_df_1_processed.csv:----\n",
      "Original size: 637 * 20628\n",
      "Reduced size: 637 * 128\n",
      "Reconstructed mse: 224157915.67511678\n",
      "----For metadata/metab_df_2_processed.csv:----\n",
      "Original size: 744 * 17354\n",
      "Reduced size: 744 * 128\n",
      "Reconstructed mse: 5773051384.7409315\n"
     ]
    }
   ],
   "source": [
    "mse_1 = mean_squared_error(df_1, df1_reconstructed)\n",
    "mse_2 = mean_squared_error(df_2, df2_reconstructed)\n",
    "print(f'----For {metab_1_path}:----')\n",
    "print(f'Original size: {df_1.shape[0]} * {df_1.shape[1]}')\n",
    "print(f'Reduced size: {df1_pca.shape[0]} * {df1_pca.shape[1]}')\n",
    "print(f'Reconstructed mse: {mse_1}')\n",
    "\n",
    "print(f'----For {metab_2_path}:----')\n",
    "print(f'Original size: {df_2.shape[0]} * {df_2.shape[1]}')\n",
    "print(f'Reduced size: {df2_pca.shape[0]} * {df2_pca.shape[1]}')\n",
    "print(f'Reconstructed mse: {mse_2}')\n"
   ]
  },
  {
   "cell_type": "code",
   "execution_count": 9,
   "id": "c32afaff-1716-403f-a16f-cc8f9c28004e",
   "metadata": {},
   "outputs": [],
   "source": [
    "# MSE of Unscaled datasets with PCA\n",
    "# ----For unscaled metadata/metab_df_1_processed.csv:----\n",
    "# Original size: 637 * 20628\n",
    "# Reduced size: 637 * 512\n",
    "# Reconstructed mse: 2161562.807968613\n",
    "# ----For unscaled metadata/metab_df_2_processed.csv:----\n",
    "# Original size: 744 * 17354\n",
    "# Reduced size: 744 * 512\n",
    "# Reconstructed mse: 198845405.87344676\n",
    "\n",
    "\n",
    "# ----For unscaled metadata/metab_df_1_processed.csv:----\n",
    "# Original size: 637 * 20628\n",
    "# Reduced size: 637 * 128\n",
    "# Reconstructed mse: 224157915.67511678\n",
    "# ----For unscaled metadata/metab_df_2_processed.csv:----\n",
    "# Original size: 744 * 17354\n",
    "# Reduced size: 744 * 128\n",
    "# Reconstructed mse: 5773051384.7409315"
   ]
  },
  {
   "cell_type": "code",
   "execution_count": 10,
   "id": "d5de2f49-f4e8-4ace-8076-10f9f3b1d98b",
   "metadata": {},
   "outputs": [],
   "source": [
    "# Scaled Dataset"
   ]
  },
  {
   "cell_type": "code",
   "execution_count": 11,
   "id": "aedfa70c-52b5-4e0d-9b95-9a277a92f0e0",
   "metadata": {},
   "outputs": [],
   "source": [
    "scaler1 = StandardScaler()\n",
    "scaler2 = StandardScaler()\n",
    "\n",
    "scaled_1 = scaler1.fit_transform(df_1)\n",
    "scaled_2 = scaler2.fit_transform(df_2)\n"
   ]
  },
  {
   "cell_type": "code",
   "execution_count": 12,
   "id": "089304bf-521e-4cc7-b86d-d7876776f529",
   "metadata": {},
   "outputs": [
    {
     "name": "stdout",
     "output_type": "stream",
     "text": [
      "scaled_1 size: 637 * 20628\n",
      "Range: [-6.3458035046688135, 25.219040425837033]\n",
      "scaled_2 size: 744 * 17354\n",
      "Range: [-4.502650986590355, 27.258026340878086]\n"
     ]
    }
   ],
   "source": [
    "print(f'scaled_1 size: {scaled_1.shape[0]} * {scaled_1.shape[1]}')\n",
    "print(f'Range: [{scaled_1.min().min()}, {scaled_1.max().max()}]')\n",
    "print(f'scaled_2 size: {scaled_2.shape[0]} * {scaled_2.shape[1]}')\n",
    "print(f'Range: [{scaled_2.min().min()}, {scaled_2.max().max()}]')\n"
   ]
  },
  {
   "cell_type": "code",
   "execution_count": 13,
   "id": "529c8586-36ec-43f4-a56a-bf1dcd9298c7",
   "metadata": {},
   "outputs": [],
   "source": [
    "# scaled_1 size: 637 * 20628\n",
    "# Range: [-6.3458035046688135, 25.219040425837033]\n",
    "# scaled_2 size: 744 * 17354\n",
    "# Range: [-4.502650986590355, 27.258026340878086]"
   ]
  },
  {
   "cell_type": "code",
   "execution_count": 14,
   "id": "c6b14621-a580-4c53-98eb-e23e0e0493bd",
   "metadata": {},
   "outputs": [],
   "source": [
    "reduced_dim_s = 1024\n",
    "pca_scaled1 = PCA(n_components=reduced_dim_s, svd_solver='full')\n",
    "pca_scaled2 = PCA(n_components=reduced_dim_s, svd_solver='full')\n",
    "scaled1_pca = pca_scaled1.fit_transform(scaled_1)\n",
    "scaled2_pca = pca_scaled2.fit_transform(scaled_2)\n",
    "\n",
    "scaled1_reconstructed = pca_scaled1.inverse_transform(scaled1_pca)\n",
    "scaled2_reconstructed = pca_scaled2.inverse_transform(scaled2_pca)"
   ]
  },
  {
   "cell_type": "code",
   "execution_count": 15,
   "id": "8f104efc-e5f2-4ae5-bb6a-1cb32d541a97",
   "metadata": {},
   "outputs": [
    {
     "name": "stdout",
     "output_type": "stream",
     "text": [
      "scaled1_pca size: 637 * 1024\n",
      "scaled2_pca size: 744 * 1024\n",
      "scaled1_reconstructed size: 637 * 20628\n",
      "scaled2_reconstructed size: 744 * 17354\n"
     ]
    }
   ],
   "source": [
    "print(f'scaled1_pca size: {scaled1_pca.shape[0]} * {scaled1_pca.shape[1]}')\n",
    "print(f'scaled2_pca size: {scaled2_pca.shape[0]} * {scaled2_pca.shape[1]}')\n",
    "print(f'scaled1_reconstructed size: {scaled1_reconstructed.shape[0]} * {scaled1_reconstructed.shape[1]}')\n",
    "print(f'scaled2_reconstructed size: {scaled2_reconstructed.shape[0]} * {scaled2_reconstructed.shape[1]}')\n"
   ]
  },
  {
   "cell_type": "code",
   "execution_count": 16,
   "id": "e47aded2-8d06-4410-9a51-553fb96064ee",
   "metadata": {},
   "outputs": [
    {
     "name": "stdout",
     "output_type": "stream",
     "text": [
      "----For scaled metadata/metab_df_1_processed.csv:----\n",
      "Original size: 637 * 20628\n",
      "Reduced size: 637 * 1024\n",
      "Reconstructed mse: 5.159855415010912e-29\n",
      "----For scaled metadata/metab_df_2_processed.csv:----\n",
      "Original size: 744 * 17354\n",
      "Reduced size: 744 * 1024\n",
      "Reconstructed mse: 1.012961906688683e-28\n"
     ]
    }
   ],
   "source": [
    "scaled_mse_1 = mean_squared_error(scaled_1, scaled1_reconstructed)\n",
    "scaled_mse_2 = mean_squared_error(scaled_2, scaled2_reconstructed)\n",
    "print(f'----For scaled {metab_1_path}:----')\n",
    "print(f'Original size: {scaled_1.shape[0]} * {scaled_1.shape[1]}')\n",
    "print(f'Reduced size: {scaled1_pca.shape[0]} * {scaled1_pca.shape[1]}')\n",
    "print(f'Reconstructed mse: {scaled_mse_1}')\n",
    "\n",
    "print(f'----For scaled {metab_2_path}:----')\n",
    "print(f'Original size: {scaled_2.shape[0]} * {scaled_2.shape[1]}')\n",
    "print(f'Reduced size: {scaled2_pca.shape[0]} * {scaled2_pca.shape[1]}')\n",
    "print(f'Reconstructed mse: {scaled_mse_2}')\n"
   ]
  },
  {
   "cell_type": "code",
   "execution_count": 17,
   "id": "67efc54e-266c-441c-a877-e8c45c4886ae",
   "metadata": {},
   "outputs": [],
   "source": [
    "# ----For scaled metadata/metab_df_1_processed.csv:----\n",
    "# Original size: 637 * 20628\n",
    "# Reduced size: 637 * 128\n",
    "# Reconstructed mse: 0.31091092994883607\n",
    "# ----For scaled metadata/metab_df_2_processed.csv:----\n",
    "# Original size: 744 * 17354\n",
    "# Reduced size: 744 * 128\n",
    "# Reconstructed mse: 0.451898048789962\n",
    "\n",
    "# ----For scaled metadata/metab_df_1_processed.csv:----\n",
    "# Original size: 637 * 20628\n",
    "# Reduced size: 637 * 256\n",
    "# Reconstructed mse: 0.14692968198374712\n",
    "# ----For scaled metadata/metab_df_2_processed.csv:----\n",
    "# Original size: 744 * 17354\n",
    "# Reduced size: 744 * 256\n",
    "# Reconstructed mse: 0.2537748722853918\n",
    "\n",
    "# ----For scaled metadata/metab_df_1_processed.csv:----\n",
    "# Original size: 637 * 20628\n",
    "# Reduced size: 637 * 512\n",
    "# Reconstructed mse: 0.01765819702708299\n",
    "# ----For scaled metadata/metab_df_2_processed.csv:----\n",
    "# Original size: 744 * 17354\n",
    "# Reduced size: 744 * 512\n",
    "# Reconstructed mse: 0.05859996044394567"
   ]
  },
  {
   "cell_type": "code",
   "execution_count": null,
   "id": "9c36c38e-240a-4236-bbce-2251098a08e1",
   "metadata": {},
   "outputs": [],
   "source": [
    "# minmaxscaler"
   ]
  },
  {
   "cell_type": "code",
   "execution_count": 18,
   "id": "28f75989-ff10-47fa-8e0e-754a18cfa4f0",
   "metadata": {},
   "outputs": [],
   "source": [
    "minmax1 = MinMaxScaler()\n",
    "minmax2 = MinMaxScaler()\n",
    "\n",
    "minmax_1 = minmax1.fit_transform(df_1)\n",
    "minmax_2 = minmax1.fit_transform(df_2)\n"
   ]
  },
  {
   "cell_type": "code",
   "execution_count": 19,
   "id": "f40a3cd0-214d-493f-a2f0-baf5a42b5578",
   "metadata": {},
   "outputs": [
    {
     "name": "stdout",
     "output_type": "stream",
     "text": [
      "scaled_1 size: 637 * 20628\n",
      "Range: [-6.3458035046688135, 25.219040425837033]\n",
      "scaled_2 size: 744 * 17354\n",
      "Range: [-4.502650986590355, 27.258026340878086]\n"
     ]
    }
   ],
   "source": [
    "print(f'scaled_1 size: {scaled_1.shape[0]} * {scaled_1.shape[1]}')\n",
    "print(f'Range: [{scaled_1.min().min()}, {scaled_1.max().max()}]')\n",
    "print(f'scaled_2 size: {scaled_2.shape[0]} * {scaled_2.shape[1]}')\n",
    "print(f'Range: [{scaled_2.min().min()}, {scaled_2.max().max()}]')\n"
   ]
  },
  {
   "cell_type": "code",
   "execution_count": 20,
   "id": "02ab4769-f376-4188-859a-f3a5f1c731b0",
   "metadata": {},
   "outputs": [],
   "source": [
    "reduced_dim_s = 512\n",
    "pca_scaled1 = PCA(n_components=reduced_dim_s, svd_solver='full')\n",
    "pca_scaled2 = PCA(n_components=reduced_dim_s, svd_solver='full')\n",
    "scaled1_pca = pca_scaled1.fit_transform(scaled_1)\n",
    "scaled2_pca = pca_scaled2.fit_transform(scaled_2)\n",
    "\n",
    "scaled1_reconstructed = pca_scaled1.inverse_transform(scaled1_pca)\n",
    "scaled2_reconstructed = pca_scaled2.inverse_transform(scaled2_pca)"
   ]
  },
  {
   "cell_type": "code",
   "execution_count": 21,
   "id": "dc29e5d8-0a5c-4146-a05e-89a270fe6106",
   "metadata": {},
   "outputs": [
    {
     "name": "stdout",
     "output_type": "stream",
     "text": [
      "scaled1_pca size: 637 * 512\n",
      "scaled2_pca size: 744 * 512\n",
      "scaled1_reconstructed size: 637 * 20628\n",
      "scaled2_reconstructed size: 744 * 17354\n"
     ]
    }
   ],
   "source": [
    "print(f'scaled1_pca size: {scaled1_pca.shape[0]} * {scaled1_pca.shape[1]}')\n",
    "print(f'scaled2_pca size: {scaled2_pca.shape[0]} * {scaled2_pca.shape[1]}')\n",
    "print(f'scaled1_reconstructed size: {scaled1_reconstructed.shape[0]} * {scaled1_reconstructed.shape[1]}')\n",
    "print(f'scaled2_reconstructed size: {scaled2_reconstructed.shape[0]} * {scaled2_reconstructed.shape[1]}')\n"
   ]
  },
  {
   "cell_type": "code",
   "execution_count": 22,
   "id": "8ec6c1bf-46af-43ac-a592-ca73ef9cbc3e",
   "metadata": {},
   "outputs": [
    {
     "name": "stdout",
     "output_type": "stream",
     "text": [
      "----For scaled metadata/metab_df_1_processed.csv:----\n",
      "Original size: 637 * 20628\n",
      "Reduced size: 637 * 512\n",
      "Reconstructed mse: 0.01765819702708299\n",
      "----For scaled metadata/metab_df_2_processed.csv:----\n",
      "Original size: 744 * 17354\n",
      "Reduced size: 744 * 512\n",
      "Reconstructed mse: 0.05859996044394567\n"
     ]
    }
   ],
   "source": [
    "scaled_mse_1 = mean_squared_error(scaled_1, scaled1_reconstructed)\n",
    "scaled_mse_2 = mean_squared_error(scaled_2, scaled2_reconstructed)\n",
    "print(f'----For scaled {metab_1_path}:----')\n",
    "print(f'Original size: {scaled_1.shape[0]} * {scaled_1.shape[1]}')\n",
    "print(f'Reduced size: {scaled1_pca.shape[0]} * {scaled1_pca.shape[1]}')\n",
    "print(f'Reconstructed mse: {scaled_mse_1}')\n",
    "\n",
    "print(f'----For scaled {metab_2_path}:----')\n",
    "print(f'Original size: {scaled_2.shape[0]} * {scaled_2.shape[1]}')\n",
    "print(f'Reduced size: {scaled2_pca.shape[0]} * {scaled2_pca.shape[1]}')\n",
    "print(f'Reconstructed mse: {scaled_mse_2}')\n"
   ]
  },
  {
   "cell_type": "code",
   "execution_count": null,
   "id": "a86ea920-b963-4718-ba98-5d23e88ea8e7",
   "metadata": {},
   "outputs": [],
   "source": []
  },
  {
   "cell_type": "code",
   "execution_count": null,
   "id": "e7f6dc4f-8be5-4e90-a08e-0f1135226918",
   "metadata": {},
   "outputs": [],
   "source": []
  }
 ],
 "metadata": {
  "kernelspec": {
   "display_name": "Python 3 (ipykernel)",
   "language": "python",
   "name": "python3"
  },
  "language_info": {
   "codemirror_mode": {
    "name": "ipython",
    "version": 3
   },
   "file_extension": ".py",
   "mimetype": "text/x-python",
   "name": "python",
   "nbconvert_exporter": "python",
   "pygments_lexer": "ipython3",
   "version": "3.11.5"
  }
 },
 "nbformat": 4,
 "nbformat_minor": 5
}
