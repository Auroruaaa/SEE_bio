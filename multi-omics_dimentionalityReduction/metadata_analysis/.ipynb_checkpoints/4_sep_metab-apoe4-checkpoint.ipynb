{
 "cells": [
  {
   "cell_type": "code",
   "execution_count": 1,
   "id": "2b5b2014-736d-4d76-a522-bb6ced4d117c",
   "metadata": {},
   "outputs": [],
   "source": [
    "import numpy as np\n",
    "import pandas as pd\n",
    "import biom\n",
    "from biom import Table\n",
    "from gemelli.rpca import rpca\n",
    "from sklearn.decomposition import PCA\n",
    "from sklearn.metrics import mean_squared_error\n",
    "from sklearn.preprocessing import MinMaxScaler, StandardScaler\n"
   ]
  },
  {
   "cell_type": "code",
   "execution_count": 2,
   "id": "e1f63545-89e5-4386-ab13-5175f3f05c0a",
   "metadata": {},
   "outputs": [],
   "source": [
    "from sklearn.model_selection import train_test_split\n",
    "from sklearn.linear_model import LinearRegression\n",
    "from sklearn.ensemble import RandomForestRegressor\n",
    "from sklearn.neural_network import MLPRegressor\n",
    "from xgboost import XGBRegressor"
   ]
  },
  {
   "cell_type": "code",
   "execution_count": 3,
   "id": "e27cef36-9922-48c7-b414-fd5448b90e94",
   "metadata": {},
   "outputs": [],
   "source": [
    "meta_path = './adrc_full_metadata.csv'\n",
    "meta = pd.read_csv(meta_path)\n",
    "\n",
    "metab1_path = './../v2_dataset/metab_df_1_processed.csv'\n",
    "metab2_path = './../v2_dataset/metab_df_2_processed.csv'\n",
    "metab3_path = './../v2_dataset/metab_drugs_df_1_processed.csv'\n",
    "metab4_path = './../v2_dataset/metab_drugs_df_2_processed.csv'\n"
   ]
  },
  {
   "cell_type": "code",
   "execution_count": 4,
   "id": "e473b463-7b0d-4324-9508-4813cfcf7b8f",
   "metadata": {},
   "outputs": [],
   "source": [
    "# print(df.shape)\n",
    "# print(df.head(5))\n",
    "\n",
    "# print(df2.shape)\n",
    "# print(df2.head(5))\n",
    "\n",
    "# print(df3.shape)\n",
    "# print(df3.head(5))\n",
    "\n",
    "# print(df4.shape)\n",
    "# print(df4.head(5))"
   ]
  },
  {
   "cell_type": "code",
   "execution_count": 5,
   "id": "7c271a63-f326-4e67-86dc-dd4fe0514952",
   "metadata": {},
   "outputs": [],
   "source": [
    "def classify_feature(row):\n",
    "    unique_values = row.unique()\n",
    "    if len(unique_values) == 2 and set(unique_values).issubset({0, 1}):\n",
    "        return 'binary'\n",
    "    else:\n",
    "        return 'numerical'\n",
    "        \n",
    "        \n",
    "def rpca_fr(path, dim):\n",
    "    df = pd.read_csv(path, delimiter='\\t')\n",
    "\n",
    "    df['feature_type'] = df.apply(classify_feature, axis=1)\n",
    "    binary_features = df[df['feature_type'] == 'binary']\n",
    "    numerical_features = df[df['feature_type'] == 'numerical']\n",
    "    binary_features = binary_features.drop(columns=['feature_type'])\n",
    "    numerical_features = numerical_features.drop(columns=['feature_type'])\n",
    "    print(f'Number of binary features: {binary_features.shape[0]}')\n",
    "    print(f'Number of numerical features: {numerical_features.shape[0]}')\n",
    "\n",
    "    scaled = numerical_features.copy()\n",
    "    scaler = MinMaxScaler()\n",
    "    scaled = scaler.fit_transform(numerical_features)\n",
    "\n",
    "    scaled += 1e-10\n",
    "    sample_ids = numerical_features.index.tolist()  # Sample IDs (rows)\n",
    "    feature_ids = numerical_features.columns.tolist()   # Feature IDs (columns)\n",
    "    table_scaled = Table(scaled.T, feature_ids, sample_ids)\n",
    "\n",
    "    rpca_results = rpca(table_scaled, n_components=dim)\n",
    "\n",
    "    ordination, distance = rpca_results\n",
    "    sample_scores = ordination.samples  # Scores for samples\n",
    "    feature_scores = ordination.features  # Scores for features\n",
    "    \n",
    "    X_reconstructed = np.dot(sample_scores, feature_scores.T)\n",
    "    \n",
    "    mse = mean_squared_error(scaled, X_reconstructed)\n",
    "    print(f'Reconstruction MSE: {mse}')\n",
    "    \n",
    "    print(f'Sample scores shape: {sample_scores.shape}')\n",
    "    print(f'Feature scores shape: {feature_scores.shape}')\n",
    "    print(f'Original scaled data shape: {scaled.T.shape}')\n",
    "    print(f'Reconstructed data shape: {X_reconstructed.shape}\\n')\n",
    "\n",
    "    reduced_df = pd.DataFrame(sample_scores, index=sample_ids)\n",
    "    return reduced_df"
   ]
  },
  {
   "cell_type": "code",
   "execution_count": 6,
   "id": "07ad263c-fc20-47f4-a22b-cb6b76ad98d5",
   "metadata": {},
   "outputs": [],
   "source": [
    "def pca_fr(path, dim, svd='full'):\n",
    "    df = pd.read_csv(path, delimiter='\\t')\n",
    "\n",
    "    df['feature_type'] = df.apply(classify_feature, axis=1)\n",
    "    binary_features = df[df['feature_type'] == 'binary']\n",
    "    numerical_features = df[df['feature_type'] == 'numerical']\n",
    "    binary_features = binary_features.drop(columns=['feature_type'])\n",
    "    numerical_features = numerical_features.drop(columns=['feature_type'])\n",
    "    print(f'Number of binary features: {binary_features.shape[0]}')\n",
    "    print(f'Number of numerical features: {numerical_features.shape[0]}')\n",
    "\n",
    "    scaled = numerical_features.copy()\n",
    "    scaler = StandardScaler()\n",
    "    scaled = scaler.fit_transform(numerical_features)\n",
    "\n",
    "    pca = PCA(n_components=dim, svd_solver=svd)\n",
    "    reduced_df = pca.fit_transform(scaled)\n",
    "    X_reconstructed = pca.inverse_transform(reduced_df)\n",
    "    \n",
    "    mse = mean_squared_error(scaled, X_reconstructed)\n",
    "    print(f'Reconstruction MSE: {mse}')\n",
    "    \n",
    "    print(f'Reduced data shape: {reduced_df.shape}')    \n",
    "    print(f'Original scaled data shape: {scaled.shape}')\n",
    "    print(f'Reconstructed data shape: {X_reconstructed.shape}\\n')\n",
    "\n",
    "    return reduced_df"
   ]
  },
  {
   "cell_type": "code",
   "execution_count": 7,
   "id": "85c4501a-eff5-4646-81b5-3b5fe0c8e4cc",
   "metadata": {},
   "outputs": [],
   "source": [
    "def combine_df(df1, df2):\n",
    "    df1 = pd.DataFrame(df1)\n",
    "    df1 = df1.reset_index(drop=True)\n",
    "    df2 = df2.reset_index(drop=True)\n",
    "    return pd.concat([df1, df2], axis=1)"
   ]
  },
  {
   "cell_type": "code",
   "execution_count": 8,
   "id": "c600d22a-a9c5-400f-870e-bd24015d5063",
   "metadata": {},
   "outputs": [],
   "source": [
    "def get_X_y(reduced, y):\n",
    "    combined_df = combine_df(reduced, y)\n",
    "    cleaned_df = combined_df.dropna(subset=['host_age'])\n",
    "    X = cleaned_df.drop(columns=['host_age'])\n",
    "    y = cleaned_df['host_age']\n",
    "    return X, y"
   ]
  },
  {
   "cell_type": "code",
   "execution_count": 9,
   "id": "497f2065-c744-4f6a-a9b7-6d697811a272",
   "metadata": {},
   "outputs": [],
   "source": [
    "def training(X, Y):\n",
    "    X_train, X_test, y_train, y_test = train_test_split(X, Y, test_size=0.2, random_state=42)\n",
    "\n",
    "    # Linear Regression\n",
    "    lr_model = LinearRegression()\n",
    "    lr_model.fit(X_train, y_train)\n",
    "    \n",
    "    y_pred = lr_model.predict(X_test)\n",
    "    mse = mean_squared_error(y_test, y_pred)\n",
    "    print(f\"Linear Regression MSE: {mse}\")\n",
    "\n",
    "    # Random Forest\n",
    "    rf_model = RandomForestRegressor(n_estimators=100, random_state=42)\n",
    "    rf_model.fit(X_train, y_train)\n",
    "    \n",
    "    y_pred_rf = rf_model.predict(X_test)\n",
    "    mse_rf = mean_squared_error(y_test, y_pred_rf)\n",
    "    print(f\"Random Forest MSE: {mse_rf}\")\n",
    "\n",
    "    # MLP\n",
    "    '''/opt/conda/lib/python3.11/site-packages/sklearn/neural_network/_multilayer_perceptron.py:691: \n",
    "    ConvergenceWarning: Stochastic Optimizer: \n",
    "    Maximum iterations (3000) reached and the optimization hasn't converged yet.\n",
    "    warnings.warn(\n",
    "    '''\n",
    "    mlp_model = MLPRegressor(hidden_layer_sizes=(100,), max_iter=4000, random_state=42)\n",
    "    mlp_model.fit(X_train, y_train)\n",
    "    \n",
    "    y_pred_mlp = mlp_model.predict(X_test)\n",
    "    mse_mlp = mean_squared_error(y_test, y_pred_mlp)\n",
    "    print(f\"MLP Regressor MSE: {mse_mlp}\")\n",
    "\n",
    "    # XGBoost\n",
    "    xgb_model = XGBRegressor(n_estimators=100, learning_rate=0.1, random_state=42)\n",
    "    xgb_model.fit(X_train, y_train)\n",
    "    \n",
    "    y_pred_xgb = xgb_model.predict(X_test)\n",
    "    mse_xgb = mean_squared_error(y_test, y_pred_xgb)\n",
    "    print(f\"XGBoost MSE: {mse_xgb}\")"
   ]
  },
  {
   "cell_type": "code",
   "execution_count": 10,
   "id": "c4dea284-3946-4e8e-b73e-40a8ec374cbb",
   "metadata": {},
   "outputs": [],
   "source": [
    "host_age_1 = meta['host_age'][:611]\n",
    "host_age_2 = meta['host_age'][611:]"
   ]
  },
  {
   "cell_type": "code",
   "execution_count": 13,
   "id": "4e57276c-b2a3-43b8-b464-b101d091cabb",
   "metadata": {},
   "outputs": [],
   "source": [
    "def get_result(path, bi_path, rpca_dim, pca_dim, y, svd='full'):\n",
    "    print(f'--------RPCA Results--------')\n",
    "    rpca_df = rpca_fr(path, rpca_dim)\n",
    "\n",
    "    print(f'For Numerical Dataset Only')\n",
    "    X_rpca_nu, Y_rpca_nu = get_X_y(rpca_df, y)\n",
    "    training(X_rpca_nu, Y_rpca_nu)\n",
    "    \n",
    "    print(f'For Both Numerical And Binary Dataset')\n",
    "    df = pd.read_csv(bi_path, delimiter='\\t')\n",
    "    bi = df.astype(int)\n",
    "    combined_rpca = combine_df(rpca_df, bi)\n",
    "    X_rpca, Y_rpca = get_X_y(combined_rpca, y)\n",
    "    training(X_rpca, Y_rpca)\n",
    "\n",
    "    print(f'--------PCA Results--------')\n",
    "    pca_df = pca_fr(path, pca_dim, svd)\n",
    "    \n",
    "    print(f'For Numerical Dataset Only')\n",
    "    X_pca_nu, Y_pca_nu = get_X_y(pca_df, y)\n",
    "    training(X_pca_nu, Y_pca_nu)\n",
    "    \n",
    "    print(f'For Both Numerical And Binary Dataset')\n",
    "    df = pd.read_csv(bi_path, delimiter='\\t')\n",
    "    bi = df.astype(int)\n",
    "    # pca_df = pd.DataFrame(pca_df)\n",
    "    combined_pca = combine_df(pca_df, bi)\n",
    "    X_pca, Y_pca = get_X_y(combined_pca, y)\n",
    "    X_pca.columns = X_pca.columns.astype(str)\n",
    "    training(X_pca, Y_pca)"
   ]
  },
  {
   "cell_type": "code",
   "execution_count": 14,
   "id": "fa4f0a63-a7ed-4c73-98e3-0624bd8c7d36",
   "metadata": {},
   "outputs": [
    {
     "name": "stdout",
     "output_type": "stream",
     "text": [
      "--------RPCA Results--------\n",
      "Number of binary features: 0\n",
      "Number of numerical features: 611\n",
      "Reconstruction MSE: 0.012501460682039531\n",
      "Sample scores shape: (611, 3)\n",
      "Feature scores shape: (20628, 3)\n",
      "Original scaled data shape: (20628, 611)\n",
      "Reconstructed data shape: (611, 20628)\n",
      "\n",
      "For Numerical Dataset Only\n",
      "Linear Regression MSE: 46.51356591171915\n",
      "Random Forest MSE: 53.10572601626015\n",
      "MLP Regressor MSE: 46.57046178347206\n",
      "XGBoost MSE: 55.23687578651714\n",
      "For Both Numerical And Binary Dataset\n",
      "Linear Regression MSE: 2.0670389960185925e+23\n",
      "Random Forest MSE: 50.723239837398395\n",
      "MLP Regressor MSE: 161.16620473368565\n",
      "XGBoost MSE: 58.60295667583456\n",
      "--------PCA Results--------\n",
      "Number of binary features: 0\n",
      "Number of numerical features: 611\n",
      "Reconstruction MSE: 0.30418474524385936\n",
      "Reduced data shape: (611, 128)\n",
      "Original scaled data shape: (611, 20628)\n",
      "Reconstructed data shape: (611, 20628)\n",
      "\n",
      "For Numerical Dataset Only\n",
      "Linear Regression MSE: 310.81368949552785\n",
      "Random Forest MSE: 48.94675447154472\n",
      "MLP Regressor MSE: 686.6833433618904\n",
      "XGBoost MSE: 55.00625301600903\n",
      "For Both Numerical And Binary Dataset\n",
      "Linear Regression MSE: 724.0911635687987\n",
      "Random Forest MSE: 49.73574308943088\n",
      "MLP Regressor MSE: 491.1173771668054\n",
      "XGBoost MSE: 49.821158228001615\n"
     ]
    }
   ],
   "source": [
    "# Data 1:\n",
    "# RPCA Dim = 3\n",
    "# PCA Dim = 128\n",
    "get_result(metab1_path, metab3_path, 3, 128, host_age_1)"
   ]
  },
  {
   "cell_type": "code",
   "execution_count": 15,
   "id": "ee1fe949-1a66-42bb-a752-eeb1550fc31f",
   "metadata": {},
   "outputs": [
    {
     "name": "stdout",
     "output_type": "stream",
     "text": [
      "--------RPCA Results--------\n",
      "Number of binary features: 0\n",
      "Number of numerical features: 611\n",
      "Reconstruction MSE: 0.012475447633089843\n",
      "Sample scores shape: (611, 10)\n",
      "Feature scores shape: (20628, 10)\n",
      "Original scaled data shape: (20628, 611)\n",
      "Reconstructed data shape: (611, 20628)\n",
      "\n",
      "For Numerical Dataset Only\n",
      "Linear Regression MSE: 48.36572072065762\n",
      "Random Forest MSE: 53.34101219512195\n",
      "MLP Regressor MSE: 48.26453371342069\n",
      "XGBoost MSE: 63.55266072613479\n",
      "For Both Numerical And Binary Dataset\n",
      "Linear Regression MSE: 3.3465879416889438e+25\n",
      "Random Forest MSE: 50.49903414634147\n",
      "MLP Regressor MSE: 143.40681692537234\n",
      "XGBoost MSE: 60.129498314400266\n",
      "--------PCA Results--------\n",
      "Number of binary features: 0\n",
      "Number of numerical features: 611\n",
      "Reconstruction MSE: 0.13926215572094966\n",
      "Reduced data shape: (611, 256)\n",
      "Original scaled data shape: (611, 20628)\n",
      "Reconstructed data shape: (611, 20628)\n",
      "\n",
      "For Numerical Dataset Only\n",
      "Linear Regression MSE: 4215.367316451802\n",
      "Random Forest MSE: 48.52167723577236\n",
      "MLP Regressor MSE: 960.6079721539538\n",
      "XGBoost MSE: 53.66068695476695\n",
      "For Both Numerical And Binary Dataset\n",
      "Linear Regression MSE: 4953.260656344192\n",
      "Random Forest MSE: 47.42172926829267\n",
      "MLP Regressor MSE: 787.2434927629242\n",
      "XGBoost MSE: 48.88494732973594\n"
     ]
    }
   ],
   "source": [
    "# Data 1:\n",
    "# RPCA Dim = 10\n",
    "# PCA Dim = 256\n",
    "get_result(metab1_path, metab3_path, 10, 256, host_age_1)"
   ]
  },
  {
   "cell_type": "code",
   "execution_count": 16,
   "id": "ebfeffe8-fe48-49d4-b22b-907107dfe4aa",
   "metadata": {},
   "outputs": [
    {
     "name": "stdout",
     "output_type": "stream",
     "text": [
      "--------RPCA Results--------\n",
      "Number of binary features: 0\n",
      "Number of numerical features: 611\n",
      "Reconstruction MSE: 0.01246277297743487\n",
      "Sample scores shape: (611, 16)\n",
      "Feature scores shape: (20628, 16)\n",
      "Original scaled data shape: (20628, 611)\n",
      "Reconstructed data shape: (611, 20628)\n",
      "\n",
      "For Numerical Dataset Only\n",
      "Linear Regression MSE: 49.21721527726441\n",
      "Random Forest MSE: 50.49815934959351\n",
      "MLP Regressor MSE: 49.099668863659716\n",
      "XGBoost MSE: 54.07871717560423\n",
      "For Both Numerical And Binary Dataset\n",
      "Linear Regression MSE: 6.843520123376235e+23\n",
      "Random Forest MSE: 49.439541463414635\n",
      "MLP Regressor MSE: 157.97884534963035\n",
      "XGBoost MSE: 52.505496468165475\n",
      "--------PCA Results--------\n",
      "Number of binary features: 0\n",
      "Number of numerical features: 611\n",
      "Reconstruction MSE: 0.012952282020246434\n",
      "Reduced data shape: (611, 512)\n",
      "Original scaled data shape: (611, 20628)\n",
      "Reconstructed data shape: (611, 20628)\n",
      "\n",
      "For Numerical Dataset Only\n",
      "Linear Regression MSE: 72224.23663194376\n",
      "Random Forest MSE: 49.20252845528456\n",
      "MLP Regressor MSE: 2801.676923011519\n",
      "XGBoost MSE: 58.097827037096465\n",
      "For Both Numerical And Binary Dataset\n",
      "Linear Regression MSE: 17139.134748020133\n",
      "Random Forest MSE: 49.52701219512194\n",
      "MLP Regressor MSE: 1996.3798596985116\n",
      "XGBoost MSE: 52.97598378316639\n"
     ]
    }
   ],
   "source": [
    "# Data 1:\n",
    "# RPCA Dim = 16\n",
    "# PCA Dim = 512\n",
    "get_result(metab1_path, metab3_path, 16, 512, host_age_1)"
   ]
  },
  {
   "cell_type": "code",
   "execution_count": 17,
   "id": "2d93e863-feff-4b42-afd7-43065cf2ba45",
   "metadata": {},
   "outputs": [
    {
     "name": "stdout",
     "output_type": "stream",
     "text": [
      "--------RPCA Results--------\n",
      "Number of binary features: 0\n",
      "Number of numerical features: 701\n",
      "Reconstruction MSE: 0.009809758083317488\n",
      "Sample scores shape: (701, 3)\n",
      "Feature scores shape: (17354, 3)\n",
      "Original scaled data shape: (17354, 701)\n",
      "Reconstructed data shape: (701, 17354)\n",
      "\n",
      "For Numerical Dataset Only\n",
      "Linear Regression MSE: 64.89636150347302\n",
      "Random Forest MSE: 78.51629130434783\n",
      "MLP Regressor MSE: 64.94867495905055\n",
      "XGBoost MSE: 94.56859406491328\n",
      "For Both Numerical And Binary Dataset\n",
      "Linear Regression MSE: 1.7489068384534355e+17\n",
      "Random Forest MSE: 73.03219782608694\n"
     ]
    },
    {
     "name": "stderr",
     "output_type": "stream",
     "text": [
      "/opt/conda/lib/python3.11/site-packages/sklearn/neural_network/_multilayer_perceptron.py:691: ConvergenceWarning: Stochastic Optimizer: Maximum iterations (4000) reached and the optimization hasn't converged yet.\n",
      "  warnings.warn(\n"
     ]
    },
    {
     "name": "stdout",
     "output_type": "stream",
     "text": [
      "MLP Regressor MSE: 172.96033931483916\n",
      "XGBoost MSE: 88.75558652196365\n",
      "--------PCA Results--------\n",
      "Number of binary features: 0\n",
      "Number of numerical features: 701\n",
      "Reconstruction MSE: 0.44225927060364\n",
      "Reduced data shape: (701, 128)\n",
      "Original scaled data shape: (701, 17354)\n",
      "Reconstructed data shape: (701, 17354)\n",
      "\n",
      "For Numerical Dataset Only\n",
      "Linear Regression MSE: 205.25543013630707\n",
      "Random Forest MSE: 65.63490652173913\n",
      "MLP Regressor MSE: 547.2678923052799\n",
      "XGBoost MSE: 72.75895342517701\n",
      "For Both Numerical And Binary Dataset\n",
      "Linear Regression MSE: 433.9419910032091\n",
      "Random Forest MSE: 65.59200724637681\n",
      "MLP Regressor MSE: 637.7967797632032\n",
      "XGBoost MSE: 71.9908366353758\n"
     ]
    }
   ],
   "source": [
    "# Data 2:\n",
    "# RPCA Dim = 3\n",
    "# PCA Dim = 128\n",
    "get_result(metab2_path, metab4_path, 3, 128, host_age_2)"
   ]
  },
  {
   "cell_type": "code",
   "execution_count": 18,
   "id": "961c6c37-c3ee-447f-b6e3-30eb59eb061c",
   "metadata": {},
   "outputs": [
    {
     "name": "stdout",
     "output_type": "stream",
     "text": [
      "--------RPCA Results--------\n",
      "Number of binary features: 0\n",
      "Number of numerical features: 701\n",
      "Reconstruction MSE: 0.009785697839528871\n",
      "Sample scores shape: (701, 10)\n",
      "Feature scores shape: (17354, 10)\n",
      "Original scaled data shape: (17354, 701)\n",
      "Reconstructed data shape: (701, 17354)\n",
      "\n",
      "For Numerical Dataset Only\n",
      "Linear Regression MSE: 65.79234530061986\n",
      "Random Forest MSE: 75.99756086956522\n",
      "MLP Regressor MSE: 65.736632213642\n",
      "XGBoost MSE: 81.5469668116932\n",
      "For Both Numerical And Binary Dataset\n",
      "Linear Regression MSE: 4.793693716762208e+18\n",
      "Random Forest MSE: 76.53347246376812\n"
     ]
    },
    {
     "name": "stderr",
     "output_type": "stream",
     "text": [
      "/opt/conda/lib/python3.11/site-packages/sklearn/neural_network/_multilayer_perceptron.py:691: ConvergenceWarning: Stochastic Optimizer: Maximum iterations (4000) reached and the optimization hasn't converged yet.\n",
      "  warnings.warn(\n"
     ]
    },
    {
     "name": "stdout",
     "output_type": "stream",
     "text": [
      "MLP Regressor MSE: 186.19761168736875\n",
      "XGBoost MSE: 80.5837383961988\n",
      "--------PCA Results--------\n",
      "Number of binary features: 0\n",
      "Number of numerical features: 701\n",
      "Reconstruction MSE: 0.2413041825594591\n",
      "Reduced data shape: (701, 256)\n",
      "Original scaled data shape: (701, 17354)\n",
      "Reconstructed data shape: (701, 17354)\n",
      "\n",
      "For Numerical Dataset Only\n",
      "Linear Regression MSE: 887.6770323598265\n",
      "Random Forest MSE: 71.02130942028985\n",
      "MLP Regressor MSE: 858.3208990703735\n",
      "XGBoost MSE: 68.89333748259578\n",
      "For Both Numerical And Binary Dataset\n",
      "Linear Regression MSE: 2166.332639372921\n",
      "Random Forest MSE: 72.68692173913044\n",
      "MLP Regressor MSE: 814.2007368065916\n",
      "XGBoost MSE: 71.49099277441164\n"
     ]
    }
   ],
   "source": [
    "# Data 2:\n",
    "# RPCA Dim = 10\n",
    "# PCA Dim = 256\n",
    "get_result(metab2_path, metab4_path, 10, 256, host_age_2)"
   ]
  },
  {
   "cell_type": "code",
   "execution_count": 19,
   "id": "1ff932dd-b4da-49cf-bda4-b11f3ddd115f",
   "metadata": {},
   "outputs": [
    {
     "name": "stdout",
     "output_type": "stream",
     "text": [
      "--------RPCA Results--------\n",
      "Number of binary features: 0\n",
      "Number of numerical features: 701\n",
      "Reconstruction MSE: 0.009772766867380706\n",
      "Sample scores shape: (701, 16)\n",
      "Feature scores shape: (17354, 16)\n",
      "Original scaled data shape: (17354, 701)\n",
      "Reconstructed data shape: (701, 17354)\n",
      "\n",
      "For Numerical Dataset Only\n",
      "Linear Regression MSE: 66.63682231242703\n",
      "Random Forest MSE: 67.70672971014491\n",
      "MLP Regressor MSE: 66.61807889589264\n",
      "XGBoost MSE: 75.4900028398696\n",
      "For Both Numerical And Binary Dataset\n",
      "Linear Regression MSE: 5.350338509513611e+18\n",
      "Random Forest MSE: 68.65868840579711\n"
     ]
    },
    {
     "name": "stderr",
     "output_type": "stream",
     "text": [
      "/opt/conda/lib/python3.11/site-packages/sklearn/neural_network/_multilayer_perceptron.py:691: ConvergenceWarning: Stochastic Optimizer: Maximum iterations (4000) reached and the optimization hasn't converged yet.\n",
      "  warnings.warn(\n"
     ]
    },
    {
     "name": "stdout",
     "output_type": "stream",
     "text": [
      "MLP Regressor MSE: 226.3978073720886\n",
      "XGBoost MSE: 74.63492938161242\n",
      "--------PCA Results--------\n",
      "Number of binary features: 0\n",
      "Number of numerical features: 701\n",
      "Reconstruction MSE: 0.04765471512575212\n",
      "Reduced data shape: (701, 512)\n",
      "Original scaled data shape: (701, 17354)\n",
      "Reconstructed data shape: (701, 17354)\n",
      "\n",
      "For Numerical Dataset Only\n",
      "Linear Regression MSE: 79469.05484510306\n",
      "Random Forest MSE: 66.28607971014492\n",
      "MLP Regressor MSE: 2910.9152381204904\n",
      "XGBoost MSE: 70.55328645360609\n",
      "For Both Numerical And Binary Dataset\n",
      "Linear Regression MSE: 422395.53964730556\n",
      "Random Forest MSE: 66.23017536231883\n",
      "MLP Regressor MSE: 2329.5608811064244\n",
      "XGBoost MSE: 73.99400255921765\n"
     ]
    }
   ],
   "source": [
    "# Data 2:\n",
    "# RPCA Dim = 16\n",
    "# PCA Dim = 512\n",
    "get_result(metab2_path, metab4_path, 16, 512, host_age_2)"
   ]
  },
  {
   "cell_type": "code",
   "execution_count": null,
   "id": "9a696aa7-3652-4710-92cf-70116d01d38a",
   "metadata": {},
   "outputs": [
    {
     "name": "stdout",
     "output_type": "stream",
     "text": [
      "--------RPCA Results--------\n",
      "Number of binary features: 0\n",
      "Number of numerical features: 611\n"
     ]
    }
   ],
   "source": [
    "# Data 1: RPCA Dim = 128\n",
    "get_result(metab1_path, metab3_path, 128, 1, host_age_1)"
   ]
  },
  {
   "cell_type": "code",
   "execution_count": null,
   "id": "1ad5fd2b-96bb-4510-8917-1ba7bb360fe6",
   "metadata": {},
   "outputs": [],
   "source": [
    "# Data 2: RPCA Dim = 128\n",
    "get_result(metab2_path, metab4_path, 128, 1, host_age_2)"
   ]
  },
  {
   "cell_type": "code",
   "execution_count": null,
   "id": "95067837-f80d-4f90-a627-d6c432205fbe",
   "metadata": {},
   "outputs": [],
   "source": []
  }
 ],
 "metadata": {
  "kernelspec": {
   "display_name": "Python 3 (ipykernel)",
   "language": "python",
   "name": "python3"
  },
  "language_info": {
   "codemirror_mode": {
    "name": "ipython",
    "version": 3
   },
   "file_extension": ".py",
   "mimetype": "text/x-python",
   "name": "python",
   "nbconvert_exporter": "python",
   "pygments_lexer": "ipython3",
   "version": "3.11.5"
  }
 },
 "nbformat": 4,
 "nbformat_minor": 5
}
