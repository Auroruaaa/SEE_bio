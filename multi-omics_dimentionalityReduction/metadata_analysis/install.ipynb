{
 "cells": [
  {
   "cell_type": "code",
   "execution_count": 1,
   "id": "47e30da8-7f52-47c3-b247-88abfb93dcfc",
   "metadata": {},
   "outputs": [
    {
     "name": "stdout",
     "output_type": "stream",
     "text": [
      "Requirement already satisfied: pandas in /opt/conda/lib/python3.11/site-packages (2.2.3)\n",
      "Requirement already satisfied: numpy>=1.23.2 in /opt/conda/lib/python3.11/site-packages (from pandas) (1.26.1)\n",
      "Requirement already satisfied: python-dateutil>=2.8.2 in /opt/conda/lib/python3.11/site-packages (from pandas) (2.8.2)\n",
      "Requirement already satisfied: pytz>=2020.1 in /opt/conda/lib/python3.11/site-packages (from pandas) (2023.3.post1)\n",
      "Requirement already satisfied: tzdata>=2022.7 in /opt/conda/lib/python3.11/site-packages (from pandas) (2024.2)\n",
      "Requirement already satisfied: six>=1.5 in /opt/conda/lib/python3.11/site-packages (from python-dateutil>=2.8.2->pandas) (1.16.0)\n",
      "Collecting gemelli\n",
      "  Obtaining dependency information for gemelli from https://files.pythonhosted.org/packages/09/af/085690ffaf5859845e9721edede130ecd3282aa6b77c9319476faee90f6d/gemelli-0.0.11-py3-none-any.whl.metadata\n",
      "  Using cached gemelli-0.0.11-py3-none-any.whl.metadata (10 kB)\n",
      "Collecting biom-format\n",
      "  Using cached biom_format-2.1.16-cp311-cp311-linux_x86_64.whl\n",
      "Requirement already satisfied: numpy>=1.12.1 in /opt/conda/lib/python3.11/site-packages (from gemelli) (1.26.1)\n",
      "Collecting click (from gemelli)\n",
      "  Obtaining dependency information for click from https://files.pythonhosted.org/packages/00/2e/d53fa4befbf2cfa713304affc7ca780ce4fc1fd8710527771b58311a3229/click-8.1.7-py3-none-any.whl.metadata\n",
      "  Using cached click-8.1.7-py3-none-any.whl.metadata (3.0 kB)\n",
      "Requirement already satisfied: pandas>=0.10.0 in /opt/conda/lib/python3.11/site-packages (from gemelli) (2.2.3)\n",
      "Requirement already satisfied: scipy>=0.19.1 in /opt/conda/lib/python3.11/site-packages (from gemelli) (1.11.3)\n",
      "Collecting nose>=1.3.7 (from gemelli)\n",
      "  Obtaining dependency information for nose>=1.3.7 from https://files.pythonhosted.org/packages/15/d8/dd071918c040f50fa1cf80da16423af51ff8ce4a0f2399b7bf8de45ac3d9/nose-1.3.7-py3-none-any.whl.metadata\n",
      "  Using cached nose-1.3.7-py3-none-any.whl.metadata (1.7 kB)\n",
      "Requirement already satisfied: scikit-learn>=0.18.1 in /opt/conda/lib/python3.11/site-packages (from gemelli) (1.3.2)\n",
      "Collecting scikit-bio>0.5.3 (from gemelli)\n",
      "  Using cached scikit_bio-0.6.2-cp311-cp311-linux_x86_64.whl\n",
      "Requirement already satisfied: h5py in /opt/conda/lib/python3.11/site-packages (from gemelli) (3.12.1)\n",
      "Collecting iow (from gemelli)\n",
      "  Using cached iow-1.0.7-cp311-cp311-linux_x86_64.whl\n",
      "Collecting tax2tree (from gemelli)\n",
      "  Using cached tax2tree-1.1-py3-none-any.whl\n",
      "Requirement already satisfied: python-dateutil>=2.8.2 in /opt/conda/lib/python3.11/site-packages (from pandas>=0.10.0->gemelli) (2.8.2)\n",
      "Requirement already satisfied: pytz>=2020.1 in /opt/conda/lib/python3.11/site-packages (from pandas>=0.10.0->gemelli) (2023.3.post1)\n",
      "Requirement already satisfied: tzdata>=2022.7 in /opt/conda/lib/python3.11/site-packages (from pandas>=0.10.0->gemelli) (2024.2)\n",
      "Requirement already satisfied: requests>=2.20.0 in /opt/conda/lib/python3.11/site-packages (from scikit-bio>0.5.3->gemelli) (2.31.0)\n",
      "Requirement already satisfied: decorator>=3.4.2 in /opt/conda/lib/python3.11/site-packages (from scikit-bio>0.5.3->gemelli) (5.1.1)\n",
      "Collecting natsort>=4.0.3 (from scikit-bio>0.5.3->gemelli)\n",
      "  Obtaining dependency information for natsort>=4.0.3 from https://files.pythonhosted.org/packages/ef/82/7a9d0550484a62c6da82858ee9419f3dd1ccc9aa1c26a1e43da3ecd20b0d/natsort-8.4.0-py3-none-any.whl.metadata\n",
      "  Using cached natsort-8.4.0-py3-none-any.whl.metadata (21 kB)\n",
      "Collecting statsmodels>=0.14.0 (from scikit-bio>0.5.3->gemelli)\n",
      "  Obtaining dependency information for statsmodels>=0.14.0 from https://files.pythonhosted.org/packages/cf/80/137dae43adbdfb8ae6a084063e79ab8012727b696d6fe9d1c8893c2899b6/statsmodels-0.14.3-cp311-cp311-manylinux_2_17_x86_64.manylinux2014_x86_64.whl.metadata\n",
      "  Using cached statsmodels-0.14.3-cp311-cp311-manylinux_2_17_x86_64.manylinux2014_x86_64.whl.metadata (9.2 kB)\n",
      "Requirement already satisfied: joblib>=1.1.1 in /opt/conda/lib/python3.11/site-packages (from scikit-learn>=0.18.1->gemelli) (1.3.2)\n",
      "Requirement already satisfied: threadpoolctl>=2.0.0 in /opt/conda/lib/python3.11/site-packages (from scikit-learn>=0.18.1->gemelli) (3.2.0)\n",
      "Collecting cython<1.0.0,>=0.24.1 (from iow->gemelli)\n",
      "  Obtaining dependency information for cython<1.0.0,>=0.24.1 from https://files.pythonhosted.org/packages/22/99/2b01e0164ff1ea592e3515e473517674780f0f3d49f48af30324b85ac94d/Cython-0.29.37-cp311-cp311-manylinux_2_17_x86_64.manylinux2014_x86_64.manylinux_2_24_x86_64.whl.metadata\n",
      "  Using cached Cython-0.29.37-cp311-cp311-manylinux_2_17_x86_64.manylinux2014_x86_64.manylinux_2_24_x86_64.whl.metadata (3.1 kB)\n",
      "Collecting future>=0.13.1 (from tax2tree->gemelli)\n",
      "  Obtaining dependency information for future>=0.13.1 from https://files.pythonhosted.org/packages/da/71/ae30dadffc90b9006d77af76b393cb9dfbfc9629f339fc1574a1c52e6806/future-1.0.0-py3-none-any.whl.metadata\n",
      "  Using cached future-1.0.0-py3-none-any.whl.metadata (4.0 kB)\n",
      "Requirement already satisfied: six>=1.5 in /opt/conda/lib/python3.11/site-packages (from python-dateutil>=2.8.2->pandas>=0.10.0->gemelli) (1.16.0)\n",
      "Requirement already satisfied: charset-normalizer<4,>=2 in /opt/conda/lib/python3.11/site-packages (from requests>=2.20.0->scikit-bio>0.5.3->gemelli) (3.2.0)\n",
      "Requirement already satisfied: idna<4,>=2.5 in /opt/conda/lib/python3.11/site-packages (from requests>=2.20.0->scikit-bio>0.5.3->gemelli) (3.4)\n",
      "Requirement already satisfied: urllib3<3,>=1.21.1 in /opt/conda/lib/python3.11/site-packages (from requests>=2.20.0->scikit-bio>0.5.3->gemelli) (2.0.4)\n",
      "Requirement already satisfied: certifi>=2017.4.17 in /opt/conda/lib/python3.11/site-packages (from requests>=2.20.0->scikit-bio>0.5.3->gemelli) (2023.7.22)\n",
      "Collecting patsy>=0.5.6 (from statsmodels>=0.14.0->scikit-bio>0.5.3->gemelli)\n",
      "  Obtaining dependency information for patsy>=0.5.6 from https://files.pythonhosted.org/packages/43/f3/1d311a09c34f14f5973bb0bb0dc3a6e007e1eda90b5492d082689936ca51/patsy-0.5.6-py2.py3-none-any.whl.metadata\n",
      "  Using cached patsy-0.5.6-py2.py3-none-any.whl.metadata (3.5 kB)\n",
      "Requirement already satisfied: packaging>=21.3 in /opt/conda/lib/python3.11/site-packages (from statsmodels>=0.14.0->scikit-bio>0.5.3->gemelli) (23.1)\n",
      "Using cached gemelli-0.0.11-py3-none-any.whl (104 kB)\n",
      "Using cached nose-1.3.7-py3-none-any.whl (154 kB)\n",
      "Using cached click-8.1.7-py3-none-any.whl (97 kB)\n",
      "Using cached Cython-0.29.37-cp311-cp311-manylinux_2_17_x86_64.manylinux2014_x86_64.manylinux_2_24_x86_64.whl (1.9 MB)\n",
      "Using cached future-1.0.0-py3-none-any.whl (491 kB)\n",
      "Using cached natsort-8.4.0-py3-none-any.whl (38 kB)\n",
      "Using cached statsmodels-0.14.3-cp311-cp311-manylinux_2_17_x86_64.manylinux2014_x86_64.whl (10.8 MB)\n",
      "Using cached patsy-0.5.6-py2.py3-none-any.whl (233 kB)\n",
      "Installing collected packages: nose, patsy, natsort, future, cython, click, statsmodels, biom-format, scikit-bio, iow, tax2tree, gemelli\n",
      "Successfully installed biom-format-2.1.16 click-8.1.7 cython-0.29.37 future-1.0.0 gemelli-0.0.11 iow-1.0.7 natsort-8.4.0 nose-1.3.7 patsy-0.5.6 scikit-bio-0.6.2 statsmodels-0.14.3 tax2tree-1.1\n"
     ]
    }
   ],
   "source": [
    "!pip install pandas\n",
    "!pip install gemelli biom-format\n"
   ]
  },
  {
   "cell_type": "code",
   "execution_count": null,
   "id": "54a5c9c6-0d42-44ef-ab91-434680916e13",
   "metadata": {},
   "outputs": [
    {
     "name": "stdout",
     "output_type": "stream",
     "text": [
      "Collecting xgboost\n",
      "  Obtaining dependency information for xgboost from https://files.pythonhosted.org/packages/20/2f/2ccc91db71096cdb8c5174948db738075d7e38cfece0815500336f6e4ca8/xgboost-2.1.1-py3-none-manylinux_2_28_x86_64.whl.metadata\n",
      "  Using cached xgboost-2.1.1-py3-none-manylinux_2_28_x86_64.whl.metadata (2.1 kB)\n",
      "Requirement already satisfied: numpy in /opt/conda/lib/python3.11/site-packages (from xgboost) (1.26.1)\n",
      "Requirement already satisfied: nvidia-nccl-cu12 in /opt/conda/lib/python3.11/site-packages (from xgboost) (2.18.1)\n",
      "Requirement already satisfied: scipy in /opt/conda/lib/python3.11/site-packages (from xgboost) (1.11.3)\n"
     ]
    }
   ],
   "source": [
    "!pip install xgboost\n"
   ]
  },
  {
   "cell_type": "code",
   "execution_count": null,
   "id": "40ddd05a-eefe-40c6-bd80-926cd5da8e6e",
   "metadata": {},
   "outputs": [],
   "source": []
  }
 ],
 "metadata": {
  "kernelspec": {
   "display_name": "Python 3 (ipykernel)",
   "language": "python",
   "name": "python3"
  },
  "language_info": {
   "codemirror_mode": {
    "name": "ipython",
    "version": 3
   },
   "file_extension": ".py",
   "mimetype": "text/x-python",
   "name": "python",
   "nbconvert_exporter": "python",
   "pygments_lexer": "ipython3",
   "version": "3.11.5"
  }
 },
 "nbformat": 4,
 "nbformat_minor": 5
}
